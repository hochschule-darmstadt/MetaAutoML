{
 "cells": [
  {
   "cell_type": "markdown",
   "metadata": {},
   "source": [
    "## Data Storage Scratchpad\n",
    "This is an interactive playground to experimenent and learn the MongoDB database API using `pymongo`.\n",
    "\n",
    "We are using a mock instance of the MongoClient, so the docker container do not need to be running."
   ]
  },
  {
   "cell_type": "markdown",
   "metadata": {},
   "source": [
    "### Setup"
   ]
  },
  {
   "cell_type": "code",
   "execution_count": 1,
   "metadata": {},
   "outputs": [],
   "source": [
    "from mongomock import MongoClient\n",
    "from mongomock.collection import Collection\n",
    "\n",
    "client = MongoClient()\n",
    "\n",
    "# create new database\n",
    "db=client[\"automl\"]\n",
    "\n",
    "# create new collections, similar to tables in relatonal dbs\n",
    "datasets: Collection = db[\"datasets\"]\n",
    "trainings: Collection = db[\"trainings\"]\n",
    "models: Collection = db[\"models\"]"
   ]
  },
  {
   "cell_type": "markdown",
   "metadata": {},
   "source": [
    "## Write Documents"
   ]
  },
  {
   "cell_type": "code",
   "execution_count": 2,
   "metadata": {},
   "outputs": [
    {
     "name": "stdout",
     "output_type": "stream",
     "text": [
      "dataset id 62a73be9f999b4f679446857\n",
      "training id 62a73be9f999b4f679446858\n",
      "model id 62a73be9f999b4f679446859\n"
     ]
    }
   ],
   "source": [
    "\n",
    "result = datasets.insert_one({\n",
    "    \"id\": \"dataset001\",\n",
    "    \"name\": \"titanic.csv\",\n",
    "    \"user_id\": \"acb123\",\n",
    "    \"path\": \"/tmp/titanic.csv\",\n",
    "    \"analysis\": { \n",
    "        # provided by dataset analysis team\n",
    "        \"noideawhatthisis\": True \n",
    "    },\n",
    "    \"creation_date\": \"2022-05-18 10:25\"\n",
    "})\n",
    "print(f\"dataset id {result.inserted_id}\")\n",
    "\n",
    "result = trainings.insert_one({\n",
    "    \"id\": \"training001\",\n",
    "    \"start_date\": \"\",\n",
    "    \"end_date\": \"\",\n",
    "    \"configuration\": { \n",
    "        \"somejson\": True\n",
    "    },\n",
    "    \"status\": \"running\"\n",
    "})\n",
    "print(f\"training id {result.inserted_id}\")\n",
    "\n",
    "result = models.insert_one({\n",
    "    \"id\": \"model001\",\n",
    "    \"configuration\": { \n",
    "        \"somejson\": True\n",
    "    },\n",
    "    \"predictiontime\": 12345.67,\n",
    "    \"metric_score\": 0.001\n",
    "})\n",
    "print(f\"model id {result.inserted_id}\")"
   ]
  },
  {
   "cell_type": "markdown",
   "metadata": {},
   "source": [
    "## Read Documents"
   ]
  },
  {
   "cell_type": "code",
   "execution_count": 3,
   "metadata": {},
   "outputs": [
    {
     "name": "stdout",
     "output_type": "stream",
     "text": [
      "found dataset with name: titanic.csv\n",
      "found dataset with configuration: {'somejson': True}\n",
      "found model with predictiontime: 12345.67\n"
     ]
    }
   ],
   "source": [
    "\n",
    "result = datasets.find_one({ \"id\": \"dataset001\" })\n",
    "print(f\"found dataset with name: {result['name']}\")\n",
    "\n",
    "result = trainings.find_one({ \"id\": \"training001\" })\n",
    "print(f\"found dataset with configuration: {result['configuration']}\")\n",
    "\n",
    "result = models.find_one({ \"id\": \"model001\" })\n",
    "print(f\"found model with predictiontime: {result['predictiontime']}\")"
   ]
  },
  {
   "cell_type": "markdown",
   "metadata": {},
   "source": [
    "## Update Documents"
   ]
  },
  {
   "cell_type": "code",
   "execution_count": 4,
   "metadata": {},
   "outputs": [
    {
     "name": "stdout",
     "output_type": "stream",
     "text": [
      "found dataset with configuration: {'id': 'training001', 'start_date': '', 'end_date': '', 'configuration': {'somejson': True}, 'status': 'finished', '_id': ObjectId('62a73be9f999b4f679446858')}\n"
     ]
    }
   ],
   "source": [
    "\n",
    "result = trainings.update_one({ \"id\": \"training001\" }, { \"$set\": { \"status\": \"finished\" }})\n",
    "\n",
    "result = trainings.find_one({ \"id\": \"training001\" })\n",
    "print(f\"found dataset with configuration: {result}\")"
   ]
  }
 ],
 "metadata": {
  "interpreter": {
   "hash": "949777d72b0d2535278d3dc13498b2535136f6dfe0678499012e853ee9abcab1"
  },
  "kernelspec": {
   "display_name": "Python 3.7.13 64-bit",
   "language": "python",
   "name": "python3"
  },
  "language_info": {
   "codemirror_mode": {
    "name": "ipython",
    "version": 3
   },
   "file_extension": ".py",
   "mimetype": "text/x-python",
   "name": "python",
   "nbconvert_exporter": "python",
   "pygments_lexer": "ipython3",
   "version": "3.7.13"
  },
  "orig_nbformat": 4
 },
 "nbformat": 4,
 "nbformat_minor": 2
}
