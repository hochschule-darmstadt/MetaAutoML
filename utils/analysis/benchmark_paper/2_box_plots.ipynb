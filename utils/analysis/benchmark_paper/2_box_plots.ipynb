{
 "cells": [
  {
   "cell_type": "code",
   "execution_count": null,
   "metadata": {},
   "outputs": [],
   "source": [
    "import openml\n",
    "openml.config.apikey = 'cfa10e8e9b677cb8f8a1a716a97fde3d'\n",
    "from matplotlib import pyplot as plt\n",
    "import numpy as np\n",
    "import pandas as pd\n",
    "import warnings\n",
    "# Suppress all future warnings\n",
    "warnings.simplefilter(action='ignore', category=Warning)"
   ]
  },
  {
   "cell_type": "code",
   "execution_count": null,
   "metadata": {},
   "outputs": [],
   "source": [
    "#Use this code to automatically generate the boxplots\n",
    "#How To: uncomment in either BINARY RESULTS or MULTI-CLASS RESULTS the dataset_ids, task_ids and correct oma_ml_score\n",
    "#           It is possible to generate accuracy, F1-score and AUROC boxplots for each binary and multi-class result set.\n",
    "#           Additionally uncomment the appropriate metric at line 38-40 and correct label at line 60 -62\n",
    "\n",
    "\n",
    "\n",
    "def get_values_list_for_evaluation(task_id):\n",
    "    task = openml.tasks.get_task(task_id)\n",
    "\n",
    "    metric = \"predictive_accuracy\"\n",
    "    #metric = \"f_measure\"\n",
    "    #metric = \"area_under_roc_curve\"\n",
    "    evals = openml.evaluations.list_evaluations(size=None,\n",
    "        function=metric, tasks=[task_id], output_format=\"dataframe\"\n",
    "    )\n",
    "    asd = pd.Series()\n",
    "    df = pd.DataFrame()\n",
    "    if evals.empty == True:\n",
    "        return []\n",
    "    flow_ids = evals.flow_id.unique()\n",
    "    for i in range(len(flow_ids)):\n",
    "        flow_values = evals[evals.flow_id == flow_ids[i]].value\n",
    "        asd = pd.concat([asd, flow_values])\n",
    "    return asd.tolist()\n",
    "\n",
    "def make_box_plots(task_ids, dataset_ids, oma_ml_score):\n",
    "    data = [get_values_list_for_evaluation(task_id) for task_id in task_ids]\n",
    "    fig, ax = plt.subplots()\n",
    "    boxplots = ax.boxplot(data, vert=True, showfliers=False)\n",
    "\n",
    "    ax.set_xticklabels([f\"{dataset_id}\" for dataset_id in dataset_ids], rotation=90)\n",
    "    ax.set_ylabel('Accuracy')\n",
    "    #ax.set_ylabel('F1-score')\n",
    "    #ax.set_ylabel('AUROC')\n",
    "    ax.set_xlabel('Dataset')\n",
    "    ax.yaxis.set_ticks(np.arange(-0.10, 1.10, 0.1))\n",
    "    for index in range(1, len(oma_ml_score)+ 1):\n",
    "        ax.scatter(index, oma_ml_score[index-1], color='blue')\n",
    "\n",
    "    plt.show()\n",
    "\n",
    "    print()\n"
   ]
  },
  {
   "cell_type": "code",
   "execution_count": null,
   "metadata": {},
   "outputs": [],
   "source": [
    "\n",
    "#BINARY RESULTS\n",
    "dataset_ids = [1169, 41147, 1111, 151, 1461, 4135, 41161, 1471, 1053, 40536, 24, 41142, 1489, 4134, 3, 1067, 1049, 470, 29, 15]\n",
    "task_ids = [189354, 233138, 3945, 219, 14965, 34539, 168338, 9983, 3904, 146607, 24, 168908, 9952, 14966, 3, 3917, 3902, 3561, 29, 15]\n",
    "#acc\n",
    "oma_ml_score = [0.674, 0.680, 0.982, 0.949, 0.911, 0.948, 0.998, 0.980, 0.818, 1.000, 1.000, 0.763, 0.901, 0.795, 0.997, 0.886, 0.928, 0.756, 0.862, 0.964]\n",
    "#f1\n",
    "#oma_ml_score = [0.645, 0.711, 0.211, 0.939, 0.951, 0.973, 0.996, 0.982, 0.290, 1.000, 1.000, 0.758, 0.931, 0.814, 0.997, 0.544, 0.712, 0.560, 0.877, 0.950]\n",
    "#auroc\n",
    "#oma_ml_score = [0.727, 0.749, 0.865, 0.987, 0.936, 0.862, 1.000, 0.997, 0.746, 1.000, 1.000, 0.819, 0.956, 0.871, 1.000, 0.842, 0.955, 0.779, 0.921, 0.994]\n",
    "\n",
    "#MULTI-CLASS RESULTS\n",
    "#dataset_ids = [1596, 41167, 40923, 41168, 40996, 40685, 1505, 6, 1476, 1478, 1459, 28, 60, 46, 21, 1491, 54, 188, 42, 40496]\n",
    "#task_ids = [7593, 233137, 167121, 168330, 146825, 146212, 9968, 6, 9986, 14970, 14964, 28, 58, 45, 21, 9954, 53, 2079, 41, 125921]\n",
    "#acc\n",
    "#oma_ml_score = [0.970, 0.933, 0.967, 0.725, 0.902, 1.000, 1.000, 0.980, 0.996, 0.994, 0.951, 0.990, 0.873, 1.000, 1.000, 0.884, 0.847, 0.703, 0.978, 0.700]\n",
    "#f1\n",
    "#oma_ml_score = [0.941, 0.931, 0.967, 0.582, 0.901, 0.996, 1.000, 0.979, 0.996, 0.995, 0.947, 0.990, 0.872, 1.000, 1.000, 0.874, 0.845, 0.682, 0.981, 0.698]\n",
    "#auroc\n",
    "#oma_ml_score = [0.999, 1.000, 0.999, 0.883, 0.993, 1.000, 1.000, 1.000, 1.000, 1.000, 0.997, 1.000, 0.975, 1.000, 1.000, 0.998, 0.963, 0.925, 0.998, 0.944]\n"
   ]
  }
 ],
 "metadata": {
  "kernelspec": {
   "display_name": ".venv",
   "language": "python",
   "name": "python3"
  },
  "language_info": {
   "name": "python",
   "version": "3.11.9"
  }
 },
 "nbformat": 4,
 "nbformat_minor": 2
}
